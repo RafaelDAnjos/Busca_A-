{
 "cells": [
  {
   "cell_type": "markdown",
   "metadata": {},
   "source": [
    "# Relatório do Algoritmo de busca A*"
   ]
  },
  {
   "cell_type": "markdown",
   "metadata": {},
   "source": [
    "## Algoritmo"
   ]
  },
  {
   "cell_type": "markdown",
   "metadata": {},
   "source": [
    "### O algoritmo A* consiste em buscar o melhor caminho de um ponto A até um ponto B, expandindo os nós possíveis e escolhendo o com o menor [custo + heurística]."
   ]
  },
  {
   "cell_type": "markdown",
   "metadata": {},
   "source": [
    "## Problema Proposto"
   ]
  },
  {
   "cell_type": "markdown",
   "metadata": {},
   "source": [
    "### O problema proposto consiste de um mapa com obstáculos, onde o agente deve andar apenas em 90º até encontrar o ponto de chegada não esbarrando nos obstáculos"
   ]
  },
  {
   "cell_type": "markdown",
   "metadata": {},
   "source": [
    "## Escolha pessoal"
   ]
  },
  {
   "cell_type": "markdown",
   "metadata": {},
   "source": [
    "### Por escolha pessoal, resolvi chamar o mapa com obstáculos de labirinto, e foi utilizado a linguagem python para o desenvolvimento do algoritmo"
   ]
  },
  {
   "cell_type": "markdown",
   "metadata": {},
   "source": [
    "## Heurística "
   ]
  },
  {
   "cell_type": "markdown",
   "metadata": {},
   "source": [
    "### A heurística escolhida foi a distancia de manhatan dado que nosso labirinto consiste de uma Matriz"
   ]
  },
  {
   "cell_type": "markdown",
   "metadata": {},
   "source": [
    "## Implementação"
   ]
  },
  {
   "cell_type": "markdown",
   "metadata": {},
   "source": [
    "### O Labirinto é lido através de um arquivo:"
   ]
  },
  {
   "cell_type": "code",
   "execution_count": 1,
   "metadata": {},
   "outputs": [
    {
     "name": "stdout",
     "output_type": "stream",
     "text": [
      "['0', '1', '0', '0', '0', '0\\n']\n",
      "['0', '1', '0', '0', '0', '0\\n']\n",
      "['0', '1', '0', '0', '0', '0\\n']\n",
      "['0', '1', '0', '0', '0', '0\\n']\n",
      "['0', '0', '0', '0', '1', '0\\n']\n"
     ]
    }
   ],
   "source": [
    "labirinto = []\n",
    "arq =  open(\"labirinto.txt\",\"r\")\n",
    "linha = arq.readline()\n",
    "while linha != \"\":\n",
    "    linha = linha.split(\" \")\n",
    "    labirinto.append(linha)\n",
    "\n",
    "    linha = arq.readline()\n",
    "\n",
    "for i in labirinto:\n",
    "    print(i)"
   ]
  },
  {
   "cell_type": "markdown",
   "metadata": {},
   "source": [
    "### Tomei como ponto de partida sempre o ponto inicial da matriz, e como ponto de chegada sempre o ponto final da matriz"
   ]
  },
  {
   "cell_type": "code",
   "execution_count": 2,
   "metadata": {},
   "outputs": [],
   "source": [
    "partida = [0,0]\n",
    "\n",
    "\n",
    "chegada = [len(labirinto)-1,len(labirinto[0])-1]\n",
    "\n"
   ]
  },
  {
   "cell_type": "markdown",
   "metadata": {},
   "source": [
    "### Determinei que cada movimento teria um custo igual a 1 afim de simplificar a implementação, como dito anteriormente defini como heurística a distância de manhathan."
   ]
  },
  {
   "cell_type": "code",
   "execution_count": 3,
   "metadata": {},
   "outputs": [],
   "source": [
    "\n",
    "custo = 1\n",
    "\n",
    "heuristica = [[9,8,7,6,5,4],\n",
    "              [8,7,6,5,4,3],\n",
    "              [7,6,5,4,3,2],\n",
    "              [6,5,4,3,2,1],\n",
    "              [5,4,3,2,1,0]]"
   ]
  },
  {
   "cell_type": "markdown",
   "metadata": {},
   "source": [
    "### Para expandir e andar na matriz, utilizei uma matriz chama delta, que define os movimentos do agente"
   ]
  },
  {
   "cell_type": "code",
   "execution_count": 4,
   "metadata": {},
   "outputs": [],
   "source": [
    "\n",
    "delta = [[-1,0],  #pra cima\n",
    "        [0,-1],  #pra esquerda\n",
    "        [1,0],   #pra baixo\n",
    "        [0,1]]   #pra direita\n"
   ]
  },
  {
   "cell_type": "markdown",
   "metadata": {},
   "source": [
    "### Declaro a variavel que guarda o caminho como uma lista vazia\n"
   ]
  },
  {
   "cell_type": "code",
   "execution_count": 5,
   "metadata": {},
   "outputs": [],
   "source": [
    "aberta = []"
   ]
  },
  {
   "cell_type": "markdown",
   "metadata": {},
   "source": [
    "### Essa função faz a busca do nó valido de menor custo dentro dos nós possiveis de andar"
   ]
  },
  {
   "cell_type": "code",
   "execution_count": 6,
   "metadata": {},
   "outputs": [],
   "source": [
    "#expande é uma lista que guarda os nós possiveis de andar.\n",
    "def bestno(expande):\n",
    "    \n",
    "    #Aqui eu declaro como sendo o menor custo o do primeiro nó de expande \n",
    "   menorc = custo+heuristica[expande[0][0]][expande[0][1]]\n",
    "    #caminho recebe o primeiro nó da lista expande\n",
    "   caminho = [expande[0][0],expande[0][1]]\n",
    "\n",
    "    #para cada elemento dentro de expande a partir do segundo elemento o código vai entrar no loop.\n",
    "   for i in expande[1:]:\n",
    "        #nesse if eu calculo qual nó de expande tem o menor custo e guardo na variavel caminho\n",
    "       if menorc > (custo+heuristica[i[0]][i[1]]) :\n",
    "           menorc = custo+heuristica[i[0]][i[1]]\n",
    "           caminho = i\n",
    "\n",
    "\n",
    "    # retorno caminho\n",
    "   return caminho"
   ]
  },
  {
   "cell_type": "markdown",
   "metadata": {},
   "source": [
    "### A função de busca A*:"
   ]
  },
  {
   "cell_type": "code",
   "execution_count": 7,
   "metadata": {},
   "outputs": [],
   "source": [
    "\n",
    "def busca():\n",
    "\n",
    "    #Adiciono o ponto de partida na lista aberta.\n",
    "   aberta.append(partida)\n",
    "\n",
    "\n",
    "    #Enquanto a ultima posição da lista aberta for diferente da posição de chegada, o algoritmo vai rodar.\n",
    "   while aberta[len(aberta)-1][0] != chegada[0] or aberta[len(aberta)-1][1] != chegada[1]:\n",
    "    \n",
    "       #Aqui declaramos a lista de nós da expansão, a cada iteração ela vai ser recriada vazia.\n",
    "       expande = []\n",
    "    \n",
    "       #Aqui pegamos todos os \"nós de movimento\" ou seja, cada no de delta para expandirmos para os nós validos.\n",
    "       for i in range(len(delta)):\n",
    "          # xlab é o ponto x do labirinto e ylab é o ponto y do larinto e tomam como base o ultimo nó de aberta e todos os nós de delta\n",
    "          # para calcular os nós adjacentes á posição atual do agente. \n",
    "          xlab = aberta[len(aberta)-1][0]+delta[i][0]\n",
    "          ylab = aberta[len(aberta)-1][1]+delta[i][1]\n",
    "\n",
    "          #Esse condicional barra nós que estão em posições de fora da borda e nós que já foram visitados\n",
    "          if xlab>=0 and xlab<len(labirinto) and ylab>=0 and ylab<len(labirinto[0])and [xlab,ylab] not in aberta:\n",
    "            \n",
    "            #Esse condicional impede que nós adjacentes que são um obstáculo de entrarem na lista de nós expandidos \n",
    "             if labirinto[xlab][ylab] != 1:\n",
    "                #caso o nó passe por todas as condicionais ele é adicionado em expande\n",
    "                expande.append([xlab,ylab])\n",
    "       #Se expande tiver elementos é declarada uma variavel que guarda o nó de melhor custo e é chamado o algoritmo bestno()\n",
    "       if expande != []:\n",
    "           melhor_no = bestno(expande)\n",
    "        \n",
    "           #O melhor nó é adicionado na lista aberta\n",
    "           aberta.append(melhor_no)\n",
    "       #Caso a expande não tenha nós, significa que o camiho está completamente bloqueado\n",
    "       else:\n",
    "\n",
    "          print(\"Não existe caminho para seguir\")\n",
    "          break\n",
    "   \n",
    "    #Printa a lista aberta, ou seja, o resultado\n",
    "   for i in aberta:\n",
    "       print(i)\n",
    "   return 0"
   ]
  },
  {
   "cell_type": "markdown",
   "metadata": {},
   "source": [
    "### Resultado"
   ]
  },
  {
   "cell_type": "code",
   "execution_count": 8,
   "metadata": {},
   "outputs": [
    {
     "name": "stdout",
     "output_type": "stream",
     "text": [
      "[0, 0]\n",
      "[1, 0]\n",
      "[2, 0]\n",
      "[3, 0]\n",
      "[4, 0]\n",
      "[4, 1]\n",
      "[4, 2]\n",
      "[4, 3]\n",
      "[4, 4]\n",
      "[4, 5]\n"
     ]
    },
    {
     "data": {
      "text/plain": [
       "0"
      ]
     },
     "execution_count": 8,
     "metadata": {},
     "output_type": "execute_result"
    }
   ],
   "source": [
    "busca()"
   ]
  },
  {
   "cell_type": "code",
   "execution_count": null,
   "metadata": {},
   "outputs": [],
   "source": []
  }
 ],
 "metadata": {
  "kernelspec": {
   "display_name": "Python 3",
   "language": "python",
   "name": "python3"
  },
  "language_info": {
   "codemirror_mode": {
    "name": "ipython",
    "version": 3
   },
   "file_extension": ".py",
   "mimetype": "text/x-python",
   "name": "python",
   "nbconvert_exporter": "python",
   "pygments_lexer": "ipython3",
   "version": "3.7.1"
  }
 },
 "nbformat": 4,
 "nbformat_minor": 2
}
